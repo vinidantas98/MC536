{
 "cells": [
  {
   "cell_type": "markdown",
   "id": "under-password",
   "metadata": {},
   "source": [
    "# Lab 1 - API de Acesso a Dados"
   ]
  },
  {
   "cell_type": "markdown",
   "id": "sensitive-oasis",
   "metadata": {},
   "source": [
    "# Tarefa 1\n",
    "Das fontes de dados disponíveis, tente encontrar fontes com formatos diferentes e importá-las via Python. Busque pelo menos dois formatos."
   ]
  },
  {
   "cell_type": "code",
   "execution_count": 44,
   "id": "contrary-reality",
   "metadata": {},
   "outputs": [
    {
     "name": "stdout",
     "output_type": "stream",
     "text": [
      "{'Country': 'Brazil', 'CountryCode': 'BR', 'Province': '', 'City': '', 'CityCode': '', 'Lat': '-14.24', 'Lon': '-51.93', 'Cases': 19069003, 'Status': 'confirmed', 'Date': '2021-07-10T00:00:00Z'}\n"
     ]
    }
   ],
   "source": [
    "import requests\n",
    "import json\n",
    "\n",
    "url = \"https://api.covid19api.com/dayone/country/brazil/status/confirmed\"\n",
    "data = requests.get(url)\n",
    "json = data.json()\n",
    "print(json[500])"
   ]
  },
  {
   "cell_type": "code",
   "execution_count": 55,
   "id": "familiar-breakfast",
   "metadata": {},
   "outputs": [
    {
     "name": "stdout",
     "output_type": "stream",
     "text": [
      "{'type': 'Feature', 'geometry': {'type': 'Point', 'coordinates': [-74.18408, 42.962614]}, 'properties': {'id': 143471837, 'url': 'https://www.pricechopper.com/covidvaccine/', 'city': 'Amsterdam', 'name': 'Market32', 'state': 'NY', 'address': '141 Sanford Farms Plaza', 'provider': 'price_chopper', 'time_zone': 'America/New_York', 'postal_code': '12010', 'appointments': [], 'provider_brand': 'price_chopper_market_32', 'carries_vaccine': None, 'appointment_types': {'unknown': True}, 'provider_brand_id': 99378, 'provider_brand_name': 'Market 32', 'provider_location_id': '139', 'appointments_available': False, 'appointment_vaccine_types': {'unknown': True}, 'appointments_last_fetched': '2021-08-15T03:00:06.724+00:00', 'appointments_last_modified': '2021-08-15T03:00:06.724+00:00', 'appointments_available_all_doses': False, 'appointments_available_2nd_dose_only': False}}\n"
     ]
    }
   ],
   "source": [
    "import requests\n",
    "import json\n",
    "\n",
    "url = \"https://www.vaccinespotter.org/api/v0/states/NY.json\"\n",
    "data = requests.get(url)\n",
    "json = data.json()\n",
    "print(json['features'][2])"
   ]
  },
  {
   "cell_type": "markdown",
   "id": "norwegian-mambo",
   "metadata": {},
   "source": [
    "# Tarefa 2"
   ]
  },
  {
   "cell_type": "markdown",
   "id": "casual-species",
   "metadata": {},
   "source": [
    "## Engenharia reversa"
   ]
  },
  {
   "cell_type": "markdown",
   "id": "pleasant-highway",
   "metadata": {},
   "source": [
    "Monte um diagramas que representem modelos dos dados que você terá acesso e como pretende associá-los. Coloque abaixo uma imagem do diagrama."
   ]
  },
  {
   "cell_type": "code",
   "execution_count": null,
   "id": "reduced-european",
   "metadata": {},
   "outputs": [],
   "source": []
  }
 ],
 "metadata": {
  "kernelspec": {
   "display_name": "Python 3",
   "language": "python",
   "name": "python3"
  },
  "language_info": {
   "codemirror_mode": {
    "name": "ipython",
    "version": 3
   },
   "file_extension": ".py",
   "mimetype": "text/x-python",
   "name": "python",
   "nbconvert_exporter": "python",
   "pygments_lexer": "ipython3",
   "version": "3.7.10"
  }
 },
 "nbformat": 4,
 "nbformat_minor": 5
}
